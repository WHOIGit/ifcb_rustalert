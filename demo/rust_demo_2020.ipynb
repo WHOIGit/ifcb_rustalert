{
 "cells": [
  {
   "cell_type": "code",
   "execution_count": 1,
   "metadata": {},
   "outputs": [
    {
     "data": {
      "text/html": [
       "<style>.container { width:90% !important; }</style>"
      ],
      "text/plain": [
       "<IPython.core.display.HTML object>"
      ]
     },
     "metadata": {},
     "output_type": "display_data"
    }
   ],
   "source": [
    "# This makes the jupyter notebook wider\n",
    "from IPython.core.display import display, HTML\n",
    "display(HTML(\"<style>.container { width:90% !important; }</style>\"))"
   ]
  },
  {
   "cell_type": "code",
   "execution_count": 2,
   "metadata": {},
   "outputs": [],
   "source": [
    "import pytz\n",
    "import pandas as pd\n",
    "import datetime as dt\n",
    "import matplotlib.pyplot as plt\n",
    "from pandas.plotting import register_matplotlib_converters\n",
    "register_matplotlib_converters()"
   ]
  },
  {
   "cell_type": "code",
   "execution_count": 3,
   "metadata": {
    "scrolled": true
   },
   "outputs": [
    {
     "data": {
      "text/html": [
       "<div>\n",
       "<style scoped>\n",
       "    .dataframe tbody tr th:only-of-type {\n",
       "        vertical-align: middle;\n",
       "    }\n",
       "\n",
       "    .dataframe tbody tr th {\n",
       "        vertical-align: top;\n",
       "    }\n",
       "\n",
       "    .dataframe thead th {\n",
       "        text-align: right;\n",
       "    }\n",
       "</style>\n",
       "<table border=\"1\" class=\"dataframe\">\n",
       "  <thead>\n",
       "    <tr style=\"text-align: right;\">\n",
       "      <th></th>\n",
       "      <th>sample_time</th>\n",
       "      <th>bin_ml</th>\n",
       "      <th>Margalefidinium_perL</th>\n",
       "    </tr>\n",
       "    <tr>\n",
       "      <th>pid</th>\n",
       "      <th></th>\n",
       "      <th></th>\n",
       "      <th></th>\n",
       "    </tr>\n",
       "  </thead>\n",
       "  <tbody>\n",
       "    <tr>\n",
       "      <th>D20200814T201734_IFCB149</th>\n",
       "      <td>2020-08-14 20:17:34+00:00</td>\n",
       "      <td>1.100</td>\n",
       "      <td>0.000000</td>\n",
       "    </tr>\n",
       "    <tr>\n",
       "      <th>D20200814T204118_IFCB149</th>\n",
       "      <td>2020-08-14 20:41:18+00:00</td>\n",
       "      <td>0.978</td>\n",
       "      <td>0.000000</td>\n",
       "    </tr>\n",
       "    <tr>\n",
       "      <th>D20200814T210502_IFCB149</th>\n",
       "      <td>2020-08-14 21:05:02+00:00</td>\n",
       "      <td>1.415</td>\n",
       "      <td>706.713781</td>\n",
       "    </tr>\n",
       "    <tr>\n",
       "      <th>D20200814T212847_IFCB149</th>\n",
       "      <td>2020-08-14 21:28:47+00:00</td>\n",
       "      <td>0.992</td>\n",
       "      <td>2016.129032</td>\n",
       "    </tr>\n",
       "    <tr>\n",
       "      <th>D20200814T215231_IFCB149</th>\n",
       "      <td>2020-08-14 21:52:31+00:00</td>\n",
       "      <td>1.470</td>\n",
       "      <td>0.000000</td>\n",
       "    </tr>\n",
       "  </tbody>\n",
       "</table>\n",
       "</div>"
      ],
      "text/plain": [
       "                                       sample_time  bin_ml  \\\n",
       "pid                                                          \n",
       "D20200814T201734_IFCB149 2020-08-14 20:17:34+00:00   1.100   \n",
       "D20200814T204118_IFCB149 2020-08-14 20:41:18+00:00   0.978   \n",
       "D20200814T210502_IFCB149 2020-08-14 21:05:02+00:00   1.415   \n",
       "D20200814T212847_IFCB149 2020-08-14 21:28:47+00:00   0.992   \n",
       "D20200814T215231_IFCB149 2020-08-14 21:52:31+00:00   1.470   \n",
       "\n",
       "                          Margalefidinium_perL  \n",
       "pid                                             \n",
       "D20200814T201734_IFCB149              0.000000  \n",
       "D20200814T204118_IFCB149              0.000000  \n",
       "D20200814T210502_IFCB149            706.713781  \n",
       "D20200814T212847_IFCB149           2016.129032  \n",
       "D20200814T215231_IFCB149              0.000000  "
      ]
     },
     "execution_count": 3,
     "metadata": {},
     "output_type": "execute_result"
    }
   ],
   "source": [
    "series = 'Margalefidinium_perL'\n",
    "bins = pd.read_csv(f'{series}.csv', index_col='pid', parse_dates=['sample_time'])\n",
    "bins.head()"
   ]
  },
  {
   "cell_type": "code",
   "execution_count": 4,
   "metadata": {},
   "outputs": [],
   "source": [
    "def rust_demo(bins, threshold, pump_timer):\n",
    "    \n",
    "    # Calculating pump-off cycles\n",
    "    pump_off = None\n",
    "    pump_off_times = []\n",
    "    for idx,row in bins.iterrows():\n",
    "        \n",
    "        # if value above threshold, note start time\n",
    "        if row[series] >= threshold:\n",
    "            if pump_off is None:\n",
    "                pump_off = row['sample_time']\n",
    "\n",
    "        # if perL below threshold and pump timer has elapsed, note time to turn pump on again\n",
    "        elif pump_off and row['sample_time']-pump_off > dt.timedelta(hours=pump_timer):\n",
    "            pump_off_times.append((pump_off,row['sample_time']))\n",
    "            pump_off = None\n",
    "\n",
    "    # create plot object\n",
    "    fig, ax = plt.subplots(figsize=(10,4))\n",
    "    \n",
    "    # plot a vertical span for each pump off-on cycle\n",
    "    for pump_off_time, pump_on_time in pump_off_times:\n",
    "        ax.axvspan(xmin=pump_off_time, xmax=pump_on_time, alpha=0.25, color='orange')\n",
    "    \n",
    "    # plot cells per liter timeseries\n",
    "    ax.plot(bins['sample_time'],bins[series])\n",
    "    \n",
    "    # plot horizontal threshold line\n",
    "    ax.hlines(y=threshold,xmin=bins.sample_time[0],xmax=bins.sample_time[-1], color='black', linewidth=1)\n",
    "    \n",
    "    # annotations\n",
    "    plt.ylabel(\"Cells per Liter\")\n",
    "    plt.title(f'{series} 2020')\n",
    "    plt.xticks(rotation=90)\n",
    "    \n",
    "    plt.show()"
   ]
  },
  {
   "cell_type": "code",
   "execution_count": 5,
   "metadata": {},
   "outputs": [
    {
     "data": {
      "image/png": "[encoded data removed]",
      "text/plain": [
       "<Figure size 720x288 with 1 Axes>"
      ]
     },
     "metadata": {
      "needs_background": "light"
     },
     "output_type": "display_data"
    }
   ],
   "source": [
    "start = dt.datetime(2020, 8, 1, tzinfo=pytz.UTC)\n",
    "end   = dt.datetime(2020,12,30, tzinfo=pytz.UTC)\n",
    "mask  = (bins['sample_time'] > start) & (bins['sample_time'] <= end)\n",
    "\n",
    "masked_bins = bins[mask]\n",
    "\n",
    "TRESHOLD = 9000   # counts per liter\n",
    "PUMP_TIMER = 1.5  # hours\n",
    "\n",
    "rust_demo(masked_bins, TRESHOLD, PUMP_TIMER)"
   ]
  },
  {
   "cell_type": "code",
   "execution_count": null,
   "metadata": {},
   "outputs": [],
   "source": []
  },
  {
   "cell_type": "code",
   "execution_count": null,
   "metadata": {},
   "outputs": [],
   "source": []
  }
 ],
 "metadata": {
  "kernelspec": {
   "display_name": "Python 3",
   "language": "python",
   "name": "python3"
  },
  "language_info": {
   "codemirror_mode": {
    "name": "ipython",
    "version": 3
   },
   "file_extension": ".py",
   "mimetype": "text/x-python",
   "name": "python",
   "nbconvert_exporter": "python",
   "pygments_lexer": "ipython3",
   "version": "3.7.3"
  }
 },
 "nbformat": 4,
 "nbformat_minor": 2
}
